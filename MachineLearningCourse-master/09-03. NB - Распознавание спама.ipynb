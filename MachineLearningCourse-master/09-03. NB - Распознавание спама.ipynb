{
 "cells": [
  {
   "cell_type": "code",
   "execution_count": 20,
   "metadata": {
    "collapsed": true
   },
   "outputs": [],
   "source": [
    "import numpy as np\n",
    "import matplotlib.pyplot as plt\n",
    "%matplotlib inline"
   ]
  },
  {
   "cell_type": "code",
   "execution_count": 21,
   "metadata": {
    "collapsed": false
   },
   "outputs": [
    {
     "name": "stdout",
     "output_type": "stream",
     "text": [
      "5574 560\n"
     ]
    }
   ],
   "source": [
    "Data = np.loadtxt('../source/sms.dat', delimiter = \" \", dtype = str, skiprows = 1)\n",
    "N, dp1 = Data.shape\n",
    "d = dp1 - 1\n",
    "print N, d"
   ]
  },
  {
   "cell_type": "code",
   "execution_count": 22,
   "metadata": {
    "collapsed": false
   },
   "outputs": [
    {
     "name": "stdout",
     "output_type": "stream",
     "text": [
      "4827\n",
      "747\n"
     ]
    }
   ],
   "source": [
    "print np.count_nonzero(Data[:, -1] == 'ham')\n",
    "print np.count_nonzero(Data[:, -1] == 'spam')"
   ]
  },
  {
   "cell_type": "code",
   "execution_count": 23,
   "metadata": {
    "collapsed": false
   },
   "outputs": [
    {
     "name": "stderr",
     "output_type": "stream",
     "text": [
      "C:\\Anaconda\\lib\\site-packages\\ipykernel\\__main__.py:2: VisibleDeprecationWarning: boolean index did not match indexed array along dimension 1; dimension is 560 but corresponding boolean dimension is 561\n",
      "  from ipykernel import kernelapp as app\n"
     ]
    }
   ],
   "source": [
    "X = np.zeros((N, d), dtype = int)\n",
    "X[Data == 'yes'] = 1\n",
    "y = np.zeros((N), dtype = int)\n",
    "y[Data[:, -1] == 'spam'] = 1"
   ]
  },
  {
   "cell_type": "code",
   "execution_count": 24,
   "metadata": {
    "collapsed": true
   },
   "outputs": [],
   "source": [
    "from sklearn.cross_validation import train_test_split\n",
    "X_train, X_test, y_train, y_test = train_test_split(X, y, test_size = 0.25, random_state = 0)"
   ]
  },
  {
   "cell_type": "code",
   "execution_count": 6,
   "metadata": {
    "collapsed": false
   },
   "outputs": [
    {
     "data": {
      "text/plain": [
       "BernoulliNB(alpha=1.0, binarize=0.0, class_prior=None, fit_prior=True)"
      ]
     },
     "execution_count": 6,
     "metadata": {},
     "output_type": "execute_result"
    }
   ],
   "source": [
    "from sklearn.naive_bayes import BernoulliNB\n",
    "nb_model = BernoulliNB()\n",
    "nb_model.fit(X_train, y_train)"
   ]
  },
  {
   "cell_type": "code",
   "execution_count": 25,
   "metadata": {
    "collapsed": false
   },
   "outputs": [
    {
     "data": {
      "text/plain": [
       "MultinomialNB(alpha=1.0, class_prior=None, fit_prior=True)"
      ]
     },
     "execution_count": 25,
     "metadata": {},
     "output_type": "execute_result"
    }
   ],
   "source": [
    "#from sklearn.naive_bayes import MultinomialNB\n",
    "#nb_model = MultinomialNB()\n",
    "#nb_model.fit(X_train, y_train)"
   ]
  },
  {
   "cell_type": "code",
   "execution_count": 27,
   "metadata": {
    "collapsed": false
   },
   "outputs": [
    {
     "data": {
      "text/plain": [
       "MultinomialNB(alpha=1.0, class_prior=None, fit_prior=True)"
      ]
     },
     "execution_count": 27,
     "metadata": {},
     "output_type": "execute_result"
    }
   ],
   "source": [
    "#from sklearn.naive_bayes import GaussianNB\n",
    "#nb_model = MultinomialNB()\n",
    "#nb_model.fit(X_train, y_train)"
   ]
  },
  {
   "cell_type": "code",
   "execution_count": 28,
   "metadata": {
    "collapsed": false
   },
   "outputs": [
    {
     "name": "stdout",
     "output_type": "stream",
     "text": [
      "0.0255980861244\n",
      "0.025824964132\n"
     ]
    }
   ],
   "source": [
    "y_train_pred = nb_model.predict(X_train)\n",
    "y_test_pred = nb_model.predict(X_test)\n",
    "\n",
    "print np.mean(y_train_pred != y_train)\n",
    "print np.mean(y_test_pred != y_test)"
   ]
  },
  {
   "cell_type": "code",
   "execution_count": 29,
   "metadata": {
    "collapsed": false
   },
   "outputs": [
    {
     "name": "stdout",
     "output_type": "stream",
     "text": [
      "[[1182   20]\n",
      " [  16  176]]\n"
     ]
    }
   ],
   "source": [
    "from sklearn.metrics import confusion_matrix\n",
    "CF = confusion_matrix(y_test_pred, y_test)\n",
    "print CF"
   ]
  },
  {
   "cell_type": "markdown",
   "metadata": {},
   "source": [
    "$\n",
    "\\begin{array}{|c|c|}\n",
    "\\hline\n",
    "{\\rm TN} & {\\rm FN} \\\\\n",
    "\\hline\n",
    "{\\rm FP} & {\\rm TP} \\\\\n",
    "\\hline\n",
    "\\end{array}\n",
    "$\n",
    "\n",
    "${\\rm TN}$ – true negative\n",
    "${\\rm FP}$ – false positive\n",
    "${\\rm FN}$ – false negative\n",
    "${\\rm TP}$ – true positive\n",
    "\n",
    "\n",
    "${\\rm FP}$ – _ложные тревоги_ (ошибки 1-го рода или $\\alpha$-ошибки)\n",
    "\n",
    "${\\rm FN}$ – _промахи_ (ошибки 2-го рода или $\\beta$-ошибки)\n",
    "\n",
    "$\\alpha = {\\rm FPR} = \\frac{{\\rm FP}}{{\\rm TN}+{\\rm FP}}$ – вероятность ошибки первого рода (_уровень значимости_)\n",
    "\n",
    "$\\beta = {\\rm FNR} = \\frac{{\\rm FN}}{{\\rm FN}+{\\rm TP}}$ – вероятность ошибки второго рода\n",
    "\n",
    "${\\rm TNR} = \\frac{{\\rm TN}}{{\\rm TN}+{\\rm FP}} = 1 - {\\rm FPR}$ – _специфичность_ (вероятность предсказать болезнь, при условии, что она есть)\n",
    "\n",
    "${\\rm TPR} = \\frac{{\\rm TP}}{{\\rm FN}+{\\rm TP}} = 1 - {\\rm FNR}$ – _чувствительность_ (вероятность предсказать отсутствие болезни, при условии, что ее нет)\n"
   ]
  },
  {
   "cell_type": "code",
   "execution_count": 18,
   "metadata": {
    "collapsed": false
   },
   "outputs": [
    {
     "name": "stdout",
     "output_type": "stream",
     "text": [
      "0.00417362270451 0.132653061224\n"
     ]
    }
   ],
   "source": [
    "fpr = float(CF[1, 0])/(CF[0, 0] + CF[1, 0])\n",
    "fnr = float(CF[0, 1])/(CF[0, 1] + CF[1, 1])\n",
    "print fpr, fnr"
   ]
  },
  {
   "cell_type": "code",
   "execution_count": 19,
   "metadata": {
    "collapsed": false
   },
   "outputs": [
    {
     "name": "stdout",
     "output_type": "stream",
     "text": [
      "0.995826377295 0.867346938776\n"
     ]
    }
   ],
   "source": [
    "tnr = 1 - fpr\n",
    "tpr = 1 - fnr\n",
    "print tnr, tpr"
   ]
  },
  {
   "cell_type": "markdown",
   "metadata": {},
   "source": [
    "## ROC-кривая"
   ]
  },
  {
   "cell_type": "code",
   "execution_count": 10,
   "metadata": {
    "collapsed": false
   },
   "outputs": [],
   "source": [
    "from sklearn.metrics import roc_curve\n",
    "proba = nb_model.predict_proba(X_test)[:, 1]"
   ]
  },
  {
   "cell_type": "code",
   "execution_count": 11,
   "metadata": {
    "collapsed": false
   },
   "outputs": [
    {
     "data": {
      "text/plain": [
       "(1394L, 2L)"
      ]
     },
     "execution_count": 11,
     "metadata": {},
     "output_type": "execute_result"
    }
   ],
   "source": [
    "nb_model.predict_proba(X_test).shape"
   ]
  },
  {
   "cell_type": "code",
   "execution_count": 12,
   "metadata": {
    "collapsed": false
   },
   "outputs": [
    {
     "data": {
      "image/png": "[encoded data removed]",
      "text/plain": [
       "<matplotlib.figure.Figure at 0x1108c908>"
      ]
     },
     "metadata": {},
     "output_type": "display_data"
    }
   ],
   "source": [
    "plt.hist(proba[y_test == 0], color = 'b', alpha = 0.5, normed = True)\n",
    "plt.hist(proba[y_test == 1], color = 'r', alpha = 0.5, normed = True)\n",
    "pass"
   ]
  },
  {
   "cell_type": "code",
   "execution_count": 13,
   "metadata": {
    "collapsed": true
   },
   "outputs": [],
   "source": [
    "fpr, tpr, thresholds = roc_curve(y_test, proba)"
   ]
  },
  {
   "cell_type": "code",
   "execution_count": 14,
   "metadata": {
    "collapsed": false
   },
   "outputs": [
    {
     "data": {
      "text/plain": [
       "(229L,)"
      ]
     },
     "execution_count": 14,
     "metadata": {},
     "output_type": "execute_result"
    }
   ],
   "source": [
    "fpr.shape"
   ]
  },
  {
   "cell_type": "code",
   "execution_count": 15,
   "metadata": {
    "collapsed": false
   },
   "outputs": [
    {
     "data": {
      "text/plain": [
       "[-0.05, 1.05, -0.05, 1.05]"
      ]
     },
     "execution_count": 15,
     "metadata": {},
     "output_type": "execute_result"
    },
    {
     "data": {
      "image/png": "[encoded data removed]",
      "text/plain": [
       "<matplotlib.figure.Figure at 0x11773320>"
      ]
     },
     "metadata": {},
     "output_type": "display_data"
    }
   ],
   "source": [
    "plt.title('Receiver Operating Characteristic')\n",
    "plt.plot(np.concatenate(([0], fpr)), np.concatenate(([0], tpr)))\n",
    "#plt.plot(fpr, tpr)\n",
    "plt.xlabel('False Positive Rate (1 - Specificity)')\n",
    "plt.ylabel('True Positive Rate (Sensitivity)')\n",
    "plt.plot([0, 1], [0, 1], 'k--')\n",
    "plt.axis([-0.05, 1.05, -0.05, 1.05])"
   ]
  },
  {
   "cell_type": "code",
   "execution_count": 16,
   "metadata": {
    "collapsed": false
   },
   "outputs": [
    {
     "name": "stdout",
     "output_type": "stream",
     "text": [
      "0.0448527133665 0.0242070116861 0.0663265306122\n"
     ]
    }
   ],
   "source": [
    "fpr_max = 0.025 # Зададим порог для fpr. Определим, чему должен быть равен tpr (fnr)\n",
    "for i in range(len(thresholds) - 1):\n",
    "    if fpr[i] <= fpr_max and fpr[i + 1] > fpr_max:\n",
    "        print thresholds[i], fpr[i], 1-tpr[i]"
   ]
  },
  {
   "cell_type": "code",
   "execution_count": 17,
   "metadata": {
    "collapsed": false
   },
   "outputs": [
    {
     "data": {
      "text/plain": [
       "0.98564358965622967"
      ]
     },
     "execution_count": 17,
     "metadata": {},
     "output_type": "execute_result"
    }
   ],
   "source": [
    "from sklearn.metrics import auc\n",
    "auc(fpr, tpr)"
   ]
  },
  {
   "cell_type": "code",
   "execution_count": null,
   "metadata": {
    "collapsed": true
   },
   "outputs": [],
   "source": []
  }
 ],
 "metadata": {
  "kernelspec": {
   "display_name": "Python 3",
   "language": "python",
   "name": "python3"
  },
  "language_info": {
   "codemirror_mode": {
    "name": "ipython",
    "version": 3
   },
   "file_extension": ".py",
   "mimetype": "text/x-python",
   "name": "python",
   "nbconvert_exporter": "python",
   "pygments_lexer": "ipython3",
   "version": "3.6.0"
  }
 },
 "nbformat": 4,
 "nbformat_minor": 0
}
